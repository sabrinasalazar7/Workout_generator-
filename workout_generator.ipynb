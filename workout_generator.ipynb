{
  "nbformat": 4,
  "nbformat_minor": 0,
  "metadata": {
    "colab": {
      "provenance": [],
      "authorship_tag": "ABX9TyNNzaSv/0IPe4A5rGKVDmPx",
      "include_colab_link": true
    },
    "kernelspec": {
      "name": "python3",
      "display_name": "Python 3"
    },
    "language_info": {
      "name": "python"
    }
  },
  "cells": [
    {
      "cell_type": "markdown",
      "metadata": {
        "id": "view-in-github",
        "colab_type": "text"
      },
      "source": [
        "<a href=\"https://colab.research.google.com/github/sabrinasalazar7/Workout_generator-/blob/main/workout_generator.ipynb\" target=\"_parent\"><img src=\"https://colab.research.google.com/assets/colab-badge.svg\" alt=\"Open In Colab\"/></a>"
      ]
    },
    {
      "cell_type": "code",
      "source": [
        "# user class with their attributes\n",
        "class User:\n",
        "    def __init__(self, username, email, password):\n",
        "        self.username = username\n",
        "        self.email = email\n",
        "        self.password = password\n",
        "        self.workouts = []\n",
        "\n",
        "# workout class with their attributes\n",
        "class Workout:\n",
        "    def __init__(self, date, duration, exercises):\n",
        "        self.data = date\n",
        "        self.duration = duration\n",
        "        self.exercises = exercises\n",
        "\n",
        "# define our main class Fitness app\n",
        "class FitnessApp:\n",
        "    def __init__(self):\n",
        "        self.users = []\n",
        "\n",
        "    # define method to register userss in our app\n",
        "    def register_user(self, username, email, password):\n",
        "        new_user = User(username, email, password)\n",
        "        self.users.append(new_user)\n",
        "\n",
        "        return new_user\n",
        "\n",
        "    # define method to enter log workout in user account\n",
        "    def log_workout(self, user, date, duration, exercises):\n",
        "      #Algorthim: adding workouts\n",
        "        new_workout = Workout(date, duration, exercises)\n",
        "        user.workouts.append(new_workout)\n",
        "\n",
        "        return new_workout\n",
        "\n",
        "    # define seperator function for better clarity\n",
        "def print_seperator():\n",
        "    print(\"=\"*40)\n",
        "\n",
        "# define main function with app instance\n",
        "def main():\n",
        "    fitness_app = FitnessApp()\n",
        "\n",
        "    # adding users option with a while loop\n",
        "    while True:\n",
        "        print_seperator()\n",
        "        print(\"Welcome to your Fitness App\")\n",
        "        print_seperator()\n",
        "        print(\"1. Register\")\n",
        "        print(\"2. Login\")\n",
        "        print(\"3. Exit\")\n",
        "\n",
        "        choice = input(\"Enter your choice (1/2/3): \")\n",
        "\n",
        "        # now using if - elif for choosing response accoring to user choice\n",
        "        if choice == \"1\":\n",
        "            username = input(\"Enter your username: \")\n",
        "            email = input(\"Enter your email: \")\n",
        "            password = input(\"Enter your password: \")\n",
        "            fitness_app.register_user(username, email, password)\n",
        "            print_seperator()\n",
        "            print(\"Registration successful!\")\n",
        "\n",
        "        elif choice == \"2\":\n",
        "            username = input(\"Enter your username: \")\n",
        "            #algorthims\n",
        "            #linear search to go through each user to find the correct user,\n",
        "            user = next((u for u in fitness_app.users if u.username == username ),None)\n",
        "\n",
        "            if user:\n",
        "                date = input(\" Enter the workout date (YYYY-MM-DD): \")\n",
        "                duration = int(input(\"Enter the workout duration (in minutes): \"))\n",
        "                #example of algoritms , splitting the user input into seperate excercies\n",
        "                exercises = input(\"Enter the exercises done (comma-separated:  )\").split (\",\")\n",
        "                fitness_app.log_workout(user, date, duration, exercises)\n",
        "                print_seperator()\n",
        "                print(f\"Workout logged successfully on {date}\")\n",
        "\n",
        "            else:\n",
        "                print_seperator()\n",
        "                print(\"Invalid username. Please try again.\")\n",
        "\n",
        "        elif choice == \"3\":\n",
        "            print_seperator()\n",
        "            print(\"Thank you for using our Fitness App. Goodbye!\")\n",
        "            break\n",
        "\n",
        "        else:\n",
        "            print_seperator()\n",
        "            print(\"Invalid choice. Please try again.\")\n",
        "\n",
        "# Now adding app running logic\n",
        "if __name__ == \"__main__\":\n",
        "    main()\n",
        "\n",
        "#data structures : a named location that can be used to store and organize data\n",
        "#example of that would be a family tree - a heirarchy of family relationships\n",
        "#like an array\n",
        "#data structures used in the app :\n",
        "#storing the users and the workouts\n",
        "#strings : user inputs , user email ,excersices and the username\n",
        "\n",
        "\n",
        "#algorthims: A COLLECTION OF STEPS to solve the problem\n",
        "#im hungry i want to bake a pizza step 1 heat thee over step 2 knee the dough...\n",
        "#linear search searching the array one by one to find a certain value\n",
        "#algorthiumns used in the app\n",
        "# linear search like searching the user by username\n",
        "# adding workouts to lists and users\n",
        "#split algorthm to split user input into a list of excersises\n",
        "\n",
        "#add merge sort to add the date and time for each user\n"
      ],
      "metadata": {
        "colab": {
          "base_uri": "https://localhost:8080/",
          "height": 460
        },
        "id": "dWaVjGXiWbFs",
        "outputId": "ad0b5941-0ea3-4923-d7cb-c9a7ef280be5"
      },
      "execution_count": 26,
      "outputs": [
        {
          "output_type": "stream",
          "name": "stdout",
          "text": [
            "========================================\n",
            "Welcome to your Fitness App\n",
            "========================================\n",
            "1. Register\n",
            "2. Login\n",
            "3. Exit\n"
          ]
        },
        {
          "output_type": "error",
          "ename": "KeyboardInterrupt",
          "evalue": "Interrupted by user",
          "traceback": [
            "\u001b[0;31m---------------------------------------------------------------------------\u001b[0m",
            "\u001b[0;31mKeyboardInterrupt\u001b[0m                         Traceback (most recent call last)",
            "\u001b[0;32m<ipython-input-26-5e015e317ee3>\u001b[0m in \u001b[0;36m<cell line: 0>\u001b[0;34m()\u001b[0m\n\u001b[1;32m     92\u001b[0m \u001b[0;31m# Now adding app running logic\u001b[0m\u001b[0;34m\u001b[0m\u001b[0;34m\u001b[0m\u001b[0m\n\u001b[1;32m     93\u001b[0m \u001b[0;32mif\u001b[0m \u001b[0m__name__\u001b[0m \u001b[0;34m==\u001b[0m \u001b[0;34m\"__main__\"\u001b[0m\u001b[0;34m:\u001b[0m\u001b[0;34m\u001b[0m\u001b[0;34m\u001b[0m\u001b[0m\n\u001b[0;32m---> 94\u001b[0;31m     \u001b[0mmain\u001b[0m\u001b[0;34m(\u001b[0m\u001b[0;34m)\u001b[0m\u001b[0;34m\u001b[0m\u001b[0;34m\u001b[0m\u001b[0m\n\u001b[0m\u001b[1;32m     95\u001b[0m \u001b[0;34m\u001b[0m\u001b[0m\n\u001b[1;32m     96\u001b[0m \u001b[0;31m#data structures : a named location that can be used to store and organize data\u001b[0m\u001b[0;34m\u001b[0m\u001b[0;34m\u001b[0m\u001b[0m\n",
            "\u001b[0;32m<ipython-input-26-5e015e317ee3>\u001b[0m in \u001b[0;36mmain\u001b[0;34m()\u001b[0m\n\u001b[1;32m     51\u001b[0m         \u001b[0mprint\u001b[0m\u001b[0;34m(\u001b[0m\u001b[0;34m\"3. Exit\"\u001b[0m\u001b[0;34m)\u001b[0m\u001b[0;34m\u001b[0m\u001b[0;34m\u001b[0m\u001b[0m\n\u001b[1;32m     52\u001b[0m \u001b[0;34m\u001b[0m\u001b[0m\n\u001b[0;32m---> 53\u001b[0;31m         \u001b[0mchoice\u001b[0m \u001b[0;34m=\u001b[0m \u001b[0minput\u001b[0m\u001b[0;34m(\u001b[0m\u001b[0;34m\"Enter your choice (1/2/3): \"\u001b[0m\u001b[0;34m)\u001b[0m\u001b[0;34m\u001b[0m\u001b[0;34m\u001b[0m\u001b[0m\n\u001b[0m\u001b[1;32m     54\u001b[0m \u001b[0;34m\u001b[0m\u001b[0m\n\u001b[1;32m     55\u001b[0m         \u001b[0;31m# now using if - elif for choosing response accoring to user choice\u001b[0m\u001b[0;34m\u001b[0m\u001b[0;34m\u001b[0m\u001b[0m\n",
            "\u001b[0;32m/usr/local/lib/python3.11/dist-packages/ipykernel/kernelbase.py\u001b[0m in \u001b[0;36mraw_input\u001b[0;34m(self, prompt)\u001b[0m\n\u001b[1;32m   1175\u001b[0m                 \u001b[0;34m\"raw_input was called, but this frontend does not support input requests.\"\u001b[0m\u001b[0;34m\u001b[0m\u001b[0;34m\u001b[0m\u001b[0m\n\u001b[1;32m   1176\u001b[0m             )\n\u001b[0;32m-> 1177\u001b[0;31m         return self._input_request(\n\u001b[0m\u001b[1;32m   1178\u001b[0m             \u001b[0mstr\u001b[0m\u001b[0;34m(\u001b[0m\u001b[0mprompt\u001b[0m\u001b[0;34m)\u001b[0m\u001b[0;34m,\u001b[0m\u001b[0;34m\u001b[0m\u001b[0;34m\u001b[0m\u001b[0m\n\u001b[1;32m   1179\u001b[0m             \u001b[0mself\u001b[0m\u001b[0;34m.\u001b[0m\u001b[0m_parent_ident\u001b[0m\u001b[0;34m[\u001b[0m\u001b[0;34m\"shell\"\u001b[0m\u001b[0;34m]\u001b[0m\u001b[0;34m,\u001b[0m\u001b[0;34m\u001b[0m\u001b[0;34m\u001b[0m\u001b[0m\n",
            "\u001b[0;32m/usr/local/lib/python3.11/dist-packages/ipykernel/kernelbase.py\u001b[0m in \u001b[0;36m_input_request\u001b[0;34m(self, prompt, ident, parent, password)\u001b[0m\n\u001b[1;32m   1217\u001b[0m             \u001b[0;32mexcept\u001b[0m \u001b[0mKeyboardInterrupt\u001b[0m\u001b[0;34m:\u001b[0m\u001b[0;34m\u001b[0m\u001b[0;34m\u001b[0m\u001b[0m\n\u001b[1;32m   1218\u001b[0m                 \u001b[0;31m# re-raise KeyboardInterrupt, to truncate traceback\u001b[0m\u001b[0;34m\u001b[0m\u001b[0;34m\u001b[0m\u001b[0m\n\u001b[0;32m-> 1219\u001b[0;31m                 \u001b[0;32mraise\u001b[0m \u001b[0mKeyboardInterrupt\u001b[0m\u001b[0;34m(\u001b[0m\u001b[0;34m\"Interrupted by user\"\u001b[0m\u001b[0;34m)\u001b[0m \u001b[0;32mfrom\u001b[0m \u001b[0;32mNone\u001b[0m\u001b[0;34m\u001b[0m\u001b[0;34m\u001b[0m\u001b[0m\n\u001b[0m\u001b[1;32m   1220\u001b[0m             \u001b[0;32mexcept\u001b[0m \u001b[0mException\u001b[0m\u001b[0;34m:\u001b[0m\u001b[0;34m\u001b[0m\u001b[0;34m\u001b[0m\u001b[0m\n\u001b[1;32m   1221\u001b[0m                 \u001b[0mself\u001b[0m\u001b[0;34m.\u001b[0m\u001b[0mlog\u001b[0m\u001b[0;34m.\u001b[0m\u001b[0mwarning\u001b[0m\u001b[0;34m(\u001b[0m\u001b[0;34m\"Invalid Message:\"\u001b[0m\u001b[0;34m,\u001b[0m \u001b[0mexc_info\u001b[0m\u001b[0;34m=\u001b[0m\u001b[0;32mTrue\u001b[0m\u001b[0;34m)\u001b[0m\u001b[0;34m\u001b[0m\u001b[0;34m\u001b[0m\u001b[0m\n",
            "\u001b[0;31mKeyboardInterrupt\u001b[0m: Interrupted by user"
          ]
        }
      ]
    }
  ]
}